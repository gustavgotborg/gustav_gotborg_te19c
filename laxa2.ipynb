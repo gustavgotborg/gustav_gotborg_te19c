{
 "metadata": {
  "language_info": {
   "codemirror_mode": {
    "name": "ipython",
    "version": 3
   },
   "file_extension": ".py",
   "mimetype": "text/x-python",
   "name": "python",
   "nbconvert_exporter": "python",
   "pygments_lexer": "ipython3",
   "version": "3.8.3-final"
  },
  "orig_nbformat": 2,
  "kernelspec": {
   "name": "python_defaultSpec_1600410629732",
   "display_name": "Python 3.8.3 64-bit ('base': conda)"
  }
 },
 "nbformat": 4,
 "nbformat_minor": 2,
 "cells": [
  {
   "cell_type": "code",
   "execution_count": 4,
   "metadata": {
    "tags": []
   },
   "outputs": [
    {
     "output_type": "stream",
     "name": "stdout",
     "text": "Ditt tal är 0\n"
    }
   ],
   "source": [
    "a = float(input(\"Ange ett tal\"))\n",
    "if a > 0 :\n",
    "    print(\"Ditt tal är positivt\")\n",
    "if a < 0 :\n",
    "    print(\"Ditt tal är negativt\")\n",
    "if a == 0:\n",
    "    print(\"Ditt tal är 0\")"
   ]
  },
  {
   "cell_type": "code",
   "execution_count": 15,
   "metadata": {
    "tags": []
   },
   "outputs": [
    {
     "output_type": "stream",
     "name": "stdout",
     "text": "Dit tal är udda\nDitt tal är inte delbart med 5\n"
    }
   ],
   "source": [
    "a = float(input(\"Ange ett tal\"))\n",
    "if a %2 :\n",
    "    print(\"Dit tal är udda\")\n",
    "else :\n",
    "    print(\"Ditt tal är jämnt\")\n",
    "if a %5 :\n",
    "    print(\"Ditt tal är inte delbart med 5\")\n",
    "else :\n",
    "    print(\"Ditt tal är delbart med 5\")"
   ]
  },
  {
   "cell_type": "code",
   "execution_count": 3,
   "metadata": {
    "tags": []
   },
   "outputs": [
    {
     "output_type": "stream",
     "name": "stdout",
     "text": "5.0, 3.0\n"
    }
   ],
   "source": [
    "a = float(input(\"Ange tal 1\"))\n",
    "b = float(input(\"Ange tal 2\"))\n",
    "\n",
    "\n",
    "if a > b :\n",
    "    print(f\"{a}, {b}\")\n",
    "elif b > a:\n",
    "    print(f\"{b}, {a}\")\n",
    "\n"
   ]
  },
  {
   "cell_type": "code",
   "execution_count": 28,
   "metadata": {
    "tags": []
   },
   "outputs": [
    {
     "output_type": "stream",
     "name": "stdout",
     "text": "vinkeln är trubbig\n"
    }
   ],
   "source": [
    "vinkel = float(input(\"Ange en vinkel i grader en triangel, där 0 <= v => 360:\"))\n",
    "if vinkel == 90 :\n",
    "    print(\"Vinkeln är rät\")\n",
    "elif vinkel >= 0 and vinkel < 90 :\n",
    "    print(\"vinkeln är spetsig\")\n",
    "elif vinkel > 90 and vinkel < 180 :\n",
    "    print(\"vinkeln är trubbig\")\n",
    "elif vinkel == 180 :\n",
    "    print(\"vinkeln är rak\")\n",
    "elif vinkel < 360 and vinkel > 180 :\n",
    "    print(\"vinkeln är konvex\")\n",
    "elif vinkel == 360 : \n",
    "    print(\"vinkeln är hel\")\n",
    "\n"
   ]
  },
  {
   "cell_type": "code",
   "execution_count": 7,
   "metadata": {
    "tags": []
   },
   "outputs": [
    {
     "output_type": "stream",
     "name": "stdout",
     "text": "Radie är negativ och ingen diameter kan räknas ut\n"
    }
   ],
   "source": [
    " radie = float(input(\"Ange cirkelns radie\"))\n",
    "\n",
    " if radie > 0 :\n",
    "     a = radie * 2 * 3.14\n",
    "elif radie <= 0 :\n",
    "    a = \"Radie är negativ och ingen diameter kan räknas ut\"\n",
    "print(a)"
   ]
  },
  {
   "cell_type": "code",
   "execution_count": null,
   "metadata": {},
   "outputs": [],
   "source": []
  }
 ]
}