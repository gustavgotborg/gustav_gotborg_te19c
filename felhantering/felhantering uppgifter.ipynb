{
 "metadata": {
  "language_info": {
   "codemirror_mode": {
    "name": "ipython",
    "version": 3
   },
   "file_extension": ".py",
   "mimetype": "text/x-python",
   "name": "python",
   "nbconvert_exporter": "python",
   "pygments_lexer": "ipython3",
   "version": "3.8.3-final"
  },
  "orig_nbformat": 2,
  "kernelspec": {
   "name": "python3",
   "display_name": "Python 3",
   "language": "python"
  }
 },
 "nbformat": 4,
 "nbformat_minor": 2,
 "cells": [
  {
   "cell_type": "code",
   "execution_count": 5,
   "metadata": {},
   "outputs": [
    {
     "output_type": "stream",
     "name": "stdout",
     "text": [
      "1.0\n"
     ]
    }
   ],
   "source": [
    "#1\n",
    "import numpy as nmp\n",
    "\n",
    "def distance(p1, p2):\n",
    "    return nmp.sqrt(p1 + p2)\n",
    "\n",
    "print(distance(0.5 , 0.5))"
   ]
  },
  {
   "cell_type": "code",
   "execution_count": 5,
   "metadata": {},
   "outputs": [
    {
     "output_type": "stream",
     "name": "stdout",
     "text": [
      "100 är inte fyrsiffrigt\n2310 är fyrsiffrigt\n10000 är inte fyrsiffrigt\n-1000 är fyrsiffrigt\n1000 är fyrsiffrigt\n102313 är inte fyrsiffrigt\n"
     ]
    }
   ],
   "source": [
    "#2 \n",
    "def ar_fyrsiffrigt(tal):\n",
    "    if tal//1000 < 10 and tal//1000 >= 1:\n",
    "        return True\n",
    "    elif tal//1000 > -10 and tal//1000 <= -1:\n",
    "        return True\n",
    "    else:\n",
    "        return False\n",
    "\n",
    "testtal = [100,2310,10000, -1000, 1000, 102313]\n",
    "\n",
    "for t in testtal:\n",
    "    if ar_fyrsiffrigt(t):\n",
    "        print(f\"{t} är fyrsiffrigt\")\n",
    "    else:\n",
    "        print(f\"{t} är inte fyrsiffrigt\")"
   ]
  },
  {
   "cell_type": "code",
   "execution_count": 31,
   "metadata": {},
   "outputs": [
    {
     "output_type": "stream",
     "name": "stdout",
     "text": [
      "Det är inte värt för dig att köpa månadskort då det hade kostat dig 455 extra.\n"
     ]
    }
   ],
   "source": [
    "#3\n",
    "antal = int(input(\"Hur många gånger åker du spårvagn? svara i heltal och använd endast siffror.\"))\n",
    "ålder = int(input(\"är du över 19 år? 1 för Ja och 2 för Nej\"))\n",
    "assert antal >= 0, \"Ditt antal måste vara ett heltal över 0\" \n",
    "månadskostnadvuxen = 795\n",
    "månadskostnadungdom = 595\n",
    "EnKostnadVuxen = 34\n",
    "EnKostnadUngdom = 26  \n",
    "if ålder == 1:\n",
    "    kostnad = EnKostnadVuxen\n",
    "    månadskostnad = månadskostnadvuxen\n",
    "elif ålder == 2:\n",
    "    kostnad = EnKostnadUngdom\n",
    "    månadskostnad = månadskostnadungdom\n",
    "else:\n",
    "    print(\"Ditt svar är ogiltlig, Försök igen och läs frågorna noga.\")   \n",
    "\n",
    "pris = kostnad*antal\n",
    "\n",
    "\n",
    "if pris > månadskostnad:\n",
    "    spara = pris - månadskostnad\n",
    "    print(f\"Det är värt för dig att köpa månads kort då du kommer att spara {spara} på det.\")\n",
    "elif pris < månadskostnad:\n",
    "    extra = månadskostnad - pris\n",
    "    print(f\"Det är inte värt för dig att köpa månadskort då det hade kostat dig {extra} extra.\")\n",
    "else:\n",
    "    print(\"Det kostar lika mycket\")"
   ]
  },
  {
   "cell_type": "code",
   "execution_count": null,
   "metadata": {},
   "outputs": [],
   "source": []
  }
 ]
}