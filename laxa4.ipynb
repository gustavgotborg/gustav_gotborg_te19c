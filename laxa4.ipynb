{
 "metadata": {
  "language_info": {
   "codemirror_mode": {
    "name": "ipython",
    "version": 3
   },
   "file_extension": ".py",
   "mimetype": "text/x-python",
   "name": "python",
   "nbconvert_exporter": "python",
   "pygments_lexer": "ipython3",
   "version": "3.8.3-final"
  },
  "orig_nbformat": 2,
  "kernelspec": {
   "name": "Python 3.8.3 64-bit ('base': conda)",
   "display_name": "Python 3.8.3 64-bit ('base': conda)",
   "metadata": {
    "interpreter": {
     "hash": "1068c05d5c8b7c2d8fbb19f66527c2417b006f462c030a163fd6287c0a235bcd"
    }
   }
  }
 },
 "nbformat": 4,
 "nbformat_minor": 2,
 "cells": [
  {
   "cell_type": "code",
   "execution_count": 5,
   "metadata": {},
   "outputs": [
    {
     "output_type": "stream",
     "name": "stdout",
     "text": [
      "5151 "
     ]
    }
   ],
   "source": [
    "n = 0\n",
    "s = 0\n",
    "while n  <= 100:\n",
    "    n += 1\n",
    "    s = n+s\n",
    "print(s, end=\" \")"
   ]
  },
  {
   "cell_type": "code",
   "execution_count": 4,
   "metadata": {},
   "outputs": [
    {
     "output_type": "stream",
     "name": "stdout",
     "text": [
      "5050 "
     ]
    }
   ],
   "source": [
    "n = 0\n",
    "s = 0\n",
    "while n  <= 99:\n",
    "    n += 1\n",
    "    s = n+s\n",
    "print(s, end=\" \")"
   ]
  },
  {
   "cell_type": "code",
   "execution_count": 23,
   "metadata": {
    "tags": []
   },
   "outputs": [
    {
     "output_type": "stream",
     "name": "stdout",
     "text": [
      "du gissade för lågt\n",
      "du gissade för högt\n",
      "du gissade för högt\n",
      "du gissade för högt\n",
      "du gissade för lågt\n",
      "du gissade för lågt\n",
      "du gissade rätt!\n"
     ]
    }
   ],
   "source": [
    "import random\n",
    "tal = random.randint(1, 100)\n",
    "g = -1\n",
    "while tal != g:\n",
    "    g = int(input(\"Gissa på ett tal mellan 0 och 100\"))\n",
    "    if g < tal:\n",
    "        print(\"du gissade för lågt\")\n",
    "    elif g > tal:\n",
    "        print (\"du gissade för högt\")\n",
    "    else:\n",
    "        print(\"du gissade rätt!\")\n",
    "        "
   ]
  },
  {
   "cell_type": "code",
   "execution_count": null,
   "metadata": {},
   "outputs": [],
   "source": []
  }
 ]
}