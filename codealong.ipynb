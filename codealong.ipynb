{
 "metadata": {
  "language_info": {
   "codemirror_mode": {
    "name": "ipython",
    "version": 3
   },
   "file_extension": ".py",
   "mimetype": "text/x-python",
   "name": "python",
   "nbconvert_exporter": "python",
   "pygments_lexer": "ipython3",
   "version": "3.8.3-final"
  },
  "orig_nbformat": 2,
  "kernelspec": {
   "name": "python_defaultSpec_1599649541368",
   "display_name": "Python 3.8.3 64-bit ('base': conda)"
  }
 },
 "nbformat": 4,
 "nbformat_minor": 2,
 "cells": [
  {
   "cell_type": "code",
   "execution_count": 8,
   "metadata": {
    "tags": []
   },
   "outputs": [
    {
     "output_type": "stream",
     "name": "stdout",
     "text": "Din tyngdkaft är 687.40N\n"
    }
   ],
   "source": [
    "#skapar en variabel g och tilldelar det värdet 9.82\n",
    "g = 9.82\n",
    "m = float(input(\"ange vid vikt\"))\n",
    "\n",
    "F = m*g\n",
    "\n",
    "print(f\"Din tyngdkaft är {F:.2f}N\")"
   ]
  },
  {
   "cell_type": "code",
   "execution_count": 10,
   "metadata": {
    "tags": []
   },
   "outputs": [
    {
     "output_type": "stream",
     "name": "stdout",
     "text": "Ditt tal i procent är 200.0 %\n"
    }
   ],
   "source": [
    "d = float(input(\"Ange ett decimaltal\"))\n",
    "F = d*100\n",
    "print(f\"Ditt tal i procent är {F:.0f} %\")"
   ]
  },
  {
   "cell_type": "code",
   "execution_count": 7,
   "metadata": {
    "tags": []
   },
   "outputs": [
    {
     "output_type": "stream",
     "name": "stdout",
     "text": "det är = 1.00 grader celsius\n"
    }
   ],
   "source": [
    "k = float(input(\"ange antal grader i Kelvin\"))\n",
    "c = k-273.15\n",
    "print(f\"det är = {c:.2f} grader celsius\")"
   ]
  },
  {
   "cell_type": "code",
   "execution_count": 5,
   "metadata": {
    "tags": []
   },
   "outputs": [
    {
     "output_type": "stream",
     "name": "stdout",
     "text": "det är = 276.15 grader Kelvin\n"
    }
   ],
   "source": [
    "c = float(input(\"ange antal grader i celsius\"))\n",
    "k = c+273.15\n",
    "print(f\"det är = {k:.2f} grader Kelvin\")"
   ]
  },
  {
   "cell_type": "code",
   "execution_count": 16,
   "metadata": {
    "tags": []
   },
   "outputs": [
    {
     "output_type": "stream",
     "name": "stdout",
     "text": "Det kostar dig 870 Kronor\nDet är värt för dig att köpa månadskort\n"
    }
   ],
   "source": [
    "a = float(input(\"Hur många gånger åker du med västtrafik?\"))\n",
    "c = a*30\n",
    "\n",
    "print(f\"Det kostar dig {c:.0f} Kronor\")\n",
    "if c > 775:\n",
    "    print(\"Det är värt för dig att köpa månadskort\")\n"
   ]
  },
  {
   "cell_type": "code",
   "execution_count": null,
   "metadata": {},
   "outputs": [],
   "source": []
  }
 ]
}