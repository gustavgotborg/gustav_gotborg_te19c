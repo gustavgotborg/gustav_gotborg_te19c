{
 "metadata": {
  "language_info": {
   "codemirror_mode": {
    "name": "ipython",
    "version": 3
   },
   "file_extension": ".py",
   "mimetype": "text/x-python",
   "name": "python",
   "nbconvert_exporter": "python",
   "pygments_lexer": "ipython3",
   "version": "3.8.3-final"
  },
  "orig_nbformat": 2,
  "kernelspec": {
   "name": "python3",
   "display_name": "Python 3",
   "language": "python"
  }
 },
 "nbformat": 4,
 "nbformat_minor": 2,
 "cells": [
  {
   "cell_type": "code",
   "execution_count": 14,
   "metadata": {},
   "outputs": [],
   "source": [
    "#1 a) b) c) \n",
    "import random \n",
    "rolls = []\n",
    "femmor = 0\n",
    "with open (\"diceRoll.txt\", \"w\") as f1: \n",
    "    for i in range(10):\n",
    "        roll = random.randint (1, 6)\n",
    "        rolls.append(roll)\n",
    "\n",
    "        if roll == 5:\n",
    "            femmor += 1\n",
    "\n",
    "\n",
    "        sortedroll = sorted(rolls)\n",
    "\n",
    "        f1.write(f\"{roll}\")\n",
    "    f1.write(f\"\\n {sortedroll} \\n{femmor}\")"
   ]
  },
  {
   "cell_type": "code",
   "execution_count": 37,
   "metadata": {},
   "outputs": [
    {
     "output_type": "stream",
     "name": "stdout",
     "text": [
      "Adam Gustafsson 25\n\nEmil Johansson 23\n\nSven Erik Karlsson 13\n\nOve Karlsten 41\n\nEmma Boden 32\n\nIda HÃ¥kansson 23\n\nElla Ester 41\n\nHanna Karlsson 23 \n\nJohan Johansson 42\n\nSven Erik Lundin 39\n\nBjÃ¶rn BjÃ¶rnsson 39\n\nKarl Karlsson 32\n\nBose Bosseson 32\n\nHÃ¥kan HÃ¥kanson 24\n\nJonas Jonasson 31\n\nErik Eriksson 31\n\nGore Bord 55\n\nJakob Kallander 65\n\nFredrika Ulven 10\n"
     ]
    }
   ],
   "source": [
    "#2 a)\n",
    "\n",
    "with open(\"Provresultat.txt\", \"r\") as f2:\n",
    "    for rad in f2:\n",
    "        print(rad)\n",
    "\n"
   ]
  },
  {
   "cell_type": "code",
   "execution_count": 61,
   "metadata": {},
   "outputs": [],
   "source": [
    "#2 b)\n",
    "with open(\"Provresultat.txt\", \"r+\") as f2:\n",
    "    lines = f2.readlines()\n",
    "    lines.sort()\n",
    "    f2.write(f\" \\n {lines}\")"
   ]
  },
  {
   "cell_type": "code",
   "execution_count": 66,
   "metadata": {},
   "outputs": [],
   "source": [
    "#2 c)   \n",
    "with open(\"Provresultat.txt\", \"r+\") as f3:\n",
    "    for rad in f3: \n",
    "        resultat = int(rad[-3:-1])\n",
    "        if resultat < 20:\n",
    "            betyg =\"F\"\n",
    "        if resultat > 20 and resultat <29:\n",
    "            betyg = \"E\"\n",
    "        if resultat > 29 and resultat <39:\n",
    "            betyg = \"D\"\n",
    "        if resultat > 39 and resultat <49:\n",
    "            betyg = \"C\"\n",
    "        if resultat > 40 and resultat <59:\n",
    "            betyg = \"B\"\n",
    "        if resultat > 50:\n",
    "            betyg = \"A\"\n",
    "        f3.write(f\" \\n {betyg}\")"
   ]
  },
  {
   "cell_type": "code",
   "execution_count": null,
   "metadata": {},
   "outputs": [],
   "source": []
  }
 ]
}