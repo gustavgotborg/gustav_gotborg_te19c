{
 "metadata": {
  "language_info": {
   "codemirror_mode": {
    "name": "ipython",
    "version": 3
   },
   "file_extension": ".py",
   "mimetype": "text/x-python",
   "name": "python",
   "nbconvert_exporter": "python",
   "pygments_lexer": "ipython3",
   "version": "3.8.3-final"
  },
  "orig_nbformat": 2,
  "kernelspec": {
   "name": "python3",
   "display_name": "Python 3.8.3 64-bit (conda)",
   "metadata": {
    "interpreter": {
     "hash": "1068c05d5c8b7c2d8fbb19f66527c2417b006f462c030a163fd6287c0a235bcd"
    }
   }
  }
 },
 "nbformat": 4,
 "nbformat_minor": 2,
 "cells": [
  {
   "cell_type": "code",
   "execution_count": 16,
   "metadata": {},
   "outputs": [
    {
     "output_type": "stream",
     "name": "stdout",
     "text": [
      "800\n"
     ]
    }
   ],
   "source": [
    "#1 \n",
    "poäng = 0\n",
    "\n",
    "kurser = dict(\n",
    "    Ma4 = 100,\n",
    "    Prog1 = 100,\n",
    "    Sv2 = 100,\n",
    "    Web1 = 100,\n",
    "    Fys1 = 100,\n",
    "    Eng6 = 100,\n",
    "    Daodac1 = 100,\n",
    "    Idr1 = 100,\n",
    ")   \n",
    "\n",
    "for key in kurser: \n",
    "    poäng = poäng + kurser[key]\n",
    "print(poäng)"
   ]
  },
  {
   "cell_type": "code",
   "execution_count": 43,
   "metadata": {},
   "outputs": [
    {
     "output_type": "stream",
     "name": "stdout",
     "text": [
      "{'ettor': 16636, 'tvåor': 16745, 'treor': 16809, 'fyror': 16393, 'femmor': 16763, 'sexor': 16654}\n"
     ]
    }
   ],
   "source": [
    "#2 \n",
    "import random as rnd\n",
    "\n",
    "nummer = {\n",
    "    \"ettor\": 0,\n",
    "    \"tvåor\": 0,\n",
    "    \"treor\": 0,\n",
    "    \"fyror\": 0,\n",
    "    \"femmor\": 0,\n",
    "    \"sexor\": 0\n",
    "    }\n",
    "\n",
    "for i in range(100000):\n",
    "   tärning = rnd.randint(1,6)\n",
    "   if tärning == 1:\n",
    "    nummer[\"ettor\"] += 1 \n",
    "   if tärning == 2:\n",
    "    nummer[\"tvåor\"] += 1 \n",
    "   if tärning == 3:\n",
    "    nummer[\"treor\"] += 1 \n",
    "   if tärning == 4:\n",
    "    nummer[\"fyror\"] += 1 \n",
    "   if tärning == 5:\n",
    "    nummer[\"femmor\"] += 1 \n",
    "   if tärning == 6:\n",
    "    nummer[\"sexor\"] += 1 \n",
    "\n",
    "\n",
    "print(nummer)"
   ]
  },
  {
   "cell_type": "code",
   "execution_count": 21,
   "metadata": {},
   "outputs": [
    {
     "output_type": "stream",
     "name": "stdout",
     "text": [
      "typ: Gift, index: 29\n"
     ]
    }
   ],
   "source": [
    "#3\n",
    "pokedex = {}\n",
    "\n",
    "poke = str(input(\"pokemon =  \"))\n",
    "\n",
    "\n",
    "\n",
    "with open (\"pokemonlista.txt\", \"r\") as f1:\n",
    "\n",
    "    for line in f1:\n",
    "        ( index , pokemon , typ) = line.split()\n",
    "        pokedex[(pokemon)] = [index, typ]\n",
    "\n",
    "\n",
    "    index = (pokedex[poke][0])\n",
    "    typ = (pokedex[poke][1])\n",
    "\n",
    "    print (f\"typ: {typ}, index: {index}\")       "
   ]
  },
  {
   "cell_type": "code",
   "execution_count": null,
   "metadata": {},
   "outputs": [],
   "source": []
  }
 ]
}