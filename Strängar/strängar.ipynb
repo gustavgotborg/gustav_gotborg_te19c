{
 "metadata": {
  "language_info": {
   "codemirror_mode": {
    "name": "ipython",
    "version": 3
   },
   "file_extension": ".py",
   "mimetype": "text/x-python",
   "name": "python",
   "nbconvert_exporter": "python",
   "pygments_lexer": "ipython3",
   "version": "3.8.3-final"
  },
  "orig_nbformat": 2,
  "kernelspec": {
   "name": "Python 3.8.3 64-bit ('gustav.gotborg': virtualenv)",
   "display_name": "Python 3.8.3 64-bit ('gustav.gotborg': virtualenv)",
   "metadata": {
    "interpreter": {
     "hash": "1068c05d5c8b7c2d8fbb19f66527c2417b006f462c030a163fd6287c0a235bcd"
    }
   }
  }
 },
 "nbformat": 4,
 "nbformat_minor": 2,
 "cells": [
  {
   "cell_type": "code",
   "execution_count": 3,
   "metadata": {},
   "outputs": [
    {
     "output_type": "stream",
     "name": "stdout",
     "text": [
      "namn: gustav götborg\nålder: 17\ntelefon: 1337\n"
     ]
    }
   ],
   "source": [
    "förnamn = \"gustav\"\n",
    "efternamn = \"götborg\"\n",
    "\n",
    "namn = förnamn + \" \" + efternamn\n",
    "ålder = \"17\"\n",
    "address = \"Planthagen 15\"\n",
    "telefon = 1337\n",
    "\n",
    "personuppgifter = \"namn: \" + namn + \"\\n\" \"ålder: \" + ålder + \"\\n\" + \"telefon: \" + str(telefon)\n",
    "\n",
    "print(personuppgifter)"
   ]
  },
  {
   "cell_type": "code",
   "execution_count": 7,
   "metadata": {},
   "outputs": [
    {
     "output_type": "stream",
     "name": "stdout",
     "text": [
      "Alfabet innehåller 29\n"
     ]
    }
   ],
   "source": [
    "alfabet = \"abcdefghijklmnopqrstuvwxyzåäö\"\n",
    "\n",
    "print(f\"Alfabet innehåller {len(alfabet)}\")"
   ]
  },
  {
   "cell_type": "code",
   "execution_count": null,
   "metadata": {},
   "outputs": [],
   "source": []
  }
 ]
}