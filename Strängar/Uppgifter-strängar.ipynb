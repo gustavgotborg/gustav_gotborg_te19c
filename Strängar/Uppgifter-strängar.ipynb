{
 "metadata": {
  "language_info": {
   "codemirror_mode": {
    "name": "ipython",
    "version": 3
   },
   "file_extension": ".py",
   "mimetype": "text/x-python",
   "name": "python",
   "nbconvert_exporter": "python",
   "pygments_lexer": "ipython3",
   "version": "3.8.3-final"
  },
  "orig_nbformat": 2,
  "kernelspec": {
   "name": "python3",
   "display_name": "Python 3.8.3 64-bit (conda)",
   "metadata": {
    "interpreter": {
     "hash": "1068c05d5c8b7c2d8fbb19f66527c2417b006f462c030a163fd6287c0a235bcd"
    }
   }
  }
 },
 "nbformat": 4,
 "nbformat_minor": 2,
 "cells": [
  {
   "cell_type": "code",
   "execution_count": 6,
   "metadata": {},
   "outputs": [
    {
     "output_type": "stream",
     "name": "stdout",
     "text": [
      "Ditt namn har : 6 bokstäver\n"
     ]
    }
   ],
   "source": [
    "#1\n",
    "namn = input(\"Vad heter du?\")\n",
    "\n",
    "print(f\"Ditt namn har : {len(namn)} bokstäver\")"
   ]
  },
  {
   "cell_type": "code",
   "execution_count": 11,
   "metadata": {},
   "outputs": [
    {
     "output_type": "stream",
     "name": "stdout",
     "text": [
      "meningen innehåller 15\n"
     ]
    }
   ],
   "source": [
    "#2\n",
    "mening = (\"En bild säger mer än tusen ord, en matematisk formel säger mer än tusen bilder\")\n",
    "\n",
    "mening = mening.split()\n",
    "print(f\"meningen innehåller {len(mening)}\")"
   ]
  },
  {
   "cell_type": "code",
   "execution_count": 19,
   "metadata": {},
   "outputs": [
    {
     "output_type": "stream",
     "name": "stdout",
     "text": [
      "ordet är en palindrom\n"
     ]
    }
   ],
   "source": [
    "#3 a)\n",
    "\n",
    "ord = input(\"Skriv ett ord\")\n",
    "ord = ord.upper()\n",
    "if ord == ord[::-1]:\n",
    "    print(\"ordet är en palindrom\")\n",
    "\n",
    "else:\n",
    "    print(\"ordet är inte en palindrom\")"
   ]
  },
  {
   "cell_type": "code",
   "execution_count": 41,
   "metadata": {},
   "outputs": [
    {
     "output_type": "stream",
     "name": "stdout",
     "text": [
      "ordet är en palindrom\n"
     ]
    }
   ],
   "source": [
    "#3 b)\n",
    "ord = input(\"Skriv ett ord\")\n",
    "ord = ord.replace(\" \", \"\")\n",
    "ord = ord.replace(\".\", \"\")\n",
    "ord = ord.replace(\",\", \"\")\n",
    "if ord == ord[::-1]:\n",
    "    print(\"ordet är en palindrom\")\n",
    "\n",
    "else:\n",
    "    print(\"ordet är inte en palindrom\")"
   ]
  },
  {
   "cell_type": "code",
   "execution_count": 46,
   "metadata": {},
   "outputs": [
    {
     "output_type": "stream",
     "name": "stdout",
     "text": [
      "{'a': 5, 'e': 5, 'i': 5, 'o': 5, 'u': 5}\n"
     ]
    }
   ],
   "source": [
    "#4\n",
    "mening = \"do not worry about your difficulties in mathematics. i can assure you mine are still greater\"\n",
    "\n",
    "vowel_counts = {}\n",
    "\n",
    "for vokal in \"aeiou\":\n",
    "    count = lowercase.count(vowel)\n",
    "\n",
    "    vowel_counts[vokal] = count\n",
    "\n",
    "\n",
    "print(vowel_counts)"
   ]
  },
  {
   "cell_type": "code",
   "execution_count": null,
   "metadata": {},
   "outputs": [],
   "source": []
  }
 ]
}