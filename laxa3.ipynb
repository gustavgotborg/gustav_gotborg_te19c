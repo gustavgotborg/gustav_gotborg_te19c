{
 "metadata": {
  "language_info": {
   "codemirror_mode": {
    "name": "ipython",
    "version": 3
   },
   "file_extension": ".py",
   "mimetype": "text/x-python",
   "name": "python",
   "nbconvert_exporter": "python",
   "pygments_lexer": "ipython3",
   "version": "3.8.3-final"
  },
  "orig_nbformat": 2,
  "kernelspec": {
   "name": "python3",
   "display_name": "Python 3.8.3 64-bit (conda)",
   "metadata": {
    "interpreter": {
     "hash": "1068c05d5c8b7c2d8fbb19f66527c2417b006f462c030a163fd6287c0a235bcd"
    }
   }
  }
 },
 "nbformat": 4,
 "nbformat_minor": 2,
 "cells": [
  {
   "cell_type": "code",
   "execution_count": 4,
   "metadata": {
    "tags": []
   },
   "outputs": [
    {
     "output_type": "stream",
     "name": "stdout",
     "text": "1 2 3 4 5 6 7 8 9 10"
    }
   ],
   "source": [
    "#1 a)\n",
    "\n",
    "for i in range(1, 11):\n",
    "    print(i, end=\" \")"
   ]
  },
  {
   "cell_type": "code",
   "execution_count": 3,
   "metadata": {
    "tags": []
   },
   "outputs": [
    {
     "output_type": "stream",
     "name": "stdout",
     "text": "-10 -9 -8 -7 -6 -5 -4 -3 -2 -1 0 1 2 3 4 5 6 7 8 9 10"
    }
   ],
   "source": [
    "#b)\n",
    "\n",
    "for i in range(-10, 11):\n",
    "    print(i, end=\" \")"
   ]
  },
  {
   "cell_type": "code",
   "execution_count": 8,
   "metadata": {
    "tags": []
   },
   "outputs": [
    {
     "output_type": "stream",
     "name": "stdout",
     "text": "10 9 8 7 6 5 4 3 2 1 0"
    }
   ],
   "source": [
    "#c\n",
    "\n",
    "for i in range(10, -1, -1):\n",
    "    print(i, end=\" \")"
   ]
  },
  {
   "cell_type": "code",
   "execution_count": 17,
   "metadata": {
    "tags": []
   },
   "outputs": [
    {
     "output_type": "stream",
     "name": "stdout",
     "text": "2 3 5 7 11 13 17 19 23 29 31 37 41 43 47 53 59 61 67 71 73 79 83 89 97"
    }
   ],
   "source": [
    "#2 \n",
    "\n",
    "for a in range(1, 100 + 1):\n",
    "   if a > 1:\n",
    "       for i in range(2, a):\n",
    "           if (a % i) == 0:\n",
    "               break\n",
    "       else:\n",
    "           print(a, end=\" \")"
   ]
  },
  {
   "cell_type": "code",
   "execution_count": 19,
   "metadata": {
    "tags": []
   },
   "outputs": [
    {
     "output_type": "stream",
     "name": "stdout",
     "text": "1+2+3+...+98+99 =5050\n"
    }
   ],
   "source": [
    "#3\n",
    "\n",
    "s = 0 \n",
    "\n",
    "for i in range(101):\n",
    "    s += i \n",
    "\n",
    "print(f\"1+2+3+...+99+100 ={s}\")"
   ]
  },
  {
   "cell_type": "code",
   "execution_count": 20,
   "metadata": {
    "tags": []
   },
   "outputs": [
    {
     "output_type": "stream",
     "name": "stdout",
     "text": "1+2+3+...+98+99 =4950\n"
    }
   ],
   "source": [
    "#4\n",
    "\n",
    "s = 0 \n",
    "\n",
    "for i in range(100):\n",
    "    s += i \n",
    "\n",
    "print(f\"1+2+3+...+98+99 ={s}\")"
   ]
  },
  {
   "cell_type": "code",
   "execution_count": 7,
   "metadata": {
    "tags": []
   },
   "outputs": [
    {
     "output_type": "stream",
     "name": "stdout",
     "text": "5\n10\n15\n20\n25\n30\n35\n40\n45\n50\n"
    }
   ],
   "source": [
    "#5 a)\n",
    "for i in range(1 , 51):\n",
    "    if i % 5 == 0:\n",
    "        print(i)"
   ]
  },
  {
   "cell_type": "code",
   "execution_count": 2,
   "metadata": {
    "tags": []
   },
   "outputs": [
    {
     "output_type": "stream",
     "name": "stdout",
     "text": [
      "0 5 10 15 20 25 30 35 40 45 50 "
     ]
    }
   ],
   "source": [
    "#5 b) \n",
    "a = 0\n",
    "b = int(input(\"Vilken tabell vill du skriva ut?\"))\n",
    "c = b*10 + 1 \n",
    "for i in range(a, c ,b):\n",
    "    print(i, end=\" \")"
   ]
  },
  {
   "cell_type": "code",
   "execution_count": null,
   "metadata": {},
   "outputs": [],
   "source": []
  }
 ]
}