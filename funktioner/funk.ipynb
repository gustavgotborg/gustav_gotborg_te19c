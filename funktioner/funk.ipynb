{
 "metadata": {
  "language_info": {
   "codemirror_mode": {
    "name": "ipython",
    "version": 3
   },
   "file_extension": ".py",
   "mimetype": "text/x-python",
   "name": "python",
   "nbconvert_exporter": "python",
   "pygments_lexer": "ipython3",
   "version": "3.8.3-final"
  },
  "orig_nbformat": 2,
  "kernelspec": {
   "name": "python3",
   "display_name": "Python 3",
   "language": "python"
  }
 },
 "nbformat": 4,
 "nbformat_minor": 2,
 "cells": [
  {
   "cell_type": "code",
   "execution_count": 17,
   "metadata": {},
   "outputs": [
    {
     "output_type": "stream",
     "name": "stdout",
     "text": [
      "55\n"
     ]
    }
   ],
   "source": [
    "#1 a)\n",
    "\n",
    "def aritmetisk_summa( a, d,n) : \n",
    "    summa = 0\n",
    "    o = 0\n",
    "    while o < n : \n",
    "        summa = summa + a \n",
    "        a = a + d \n",
    "        o = o + 1\n",
    "    return summa\n",
    "      \n",
    "\n",
    "n = 10\n",
    "a = 1\n",
    "d = 1\n",
    "print (aritmetisk_summa(a, d, n)) \n"
   ]
  },
  {
   "cell_type": "code",
   "execution_count": 13,
   "metadata": {},
   "outputs": [
    {
     "output_type": "stream",
     "name": "stdout",
     "text": [
      "66\n"
     ]
    }
   ],
   "source": [
    "#1 b)\n",
    "\n",
    "def aritmetisk_summa( a, d,n) : \n",
    "    summa = 0\n",
    "    o = 0\n",
    "    while o < n : \n",
    "        summa = summa + a \n",
    "        a = a + d \n",
    "        o = o + 1\n",
    "    return summa\n",
    "      \n",
    "\n",
    "n = 11\n",
    "a = 1\n",
    "d = 1\n",
    "print (aritmetisk_summa(a, d, n)) "
   ]
  },
  {
   "cell_type": "code",
   "execution_count": 19,
   "metadata": {},
   "outputs": [
    {
     "output_type": "stream",
     "name": "stdout",
     "text": [
      "55\n"
     ]
    }
   ],
   "source": [
    "#1 c)\n",
    "\n",
    "n = int(input(\"Till vilket värde vill du beräkna?\"))\n",
    "a = int(input(\"Vilket startvärde vill du ha?\"))\n",
    "d = int(input(\"Hur mycket ska talet öka med varje gång?\"))\n",
    "\n",
    "def aritmetisk_summa( a, d,n) : \n",
    "    summa = 0\n",
    "    o = 0\n",
    "    while o < n : \n",
    "        summa = summa + a \n",
    "        a = a + d \n",
    "        o = o + 1\n",
    "    return summa\n",
    "      \n",
    "print (aritmetisk_summa(a, d, n)) "
   ]
  },
  {
   "cell_type": "code",
   "execution_count": 16,
   "metadata": {},
   "outputs": [
    {
     "output_type": "stream",
     "name": "stdout",
     "text": [
      "36\n"
     ]
    }
   ],
   "source": [
    "#2 a)\n",
    "\n",
    "n = int(input(\"Till vilket värde vill du beräkna?\"))\n",
    "\n",
    "def aritmetisk_summa( a, d, n) : \n",
    "    summa = 0\n",
    "    o = 0\n",
    "    while o < n : \n",
    "        summa = summa + a \n",
    "        a = a + d \n",
    "        o = o + 2\n",
    "    return summa\n",
    "a = 1\n",
    "d = 2\n",
    "n = (2*n) + 1\n",
    "      \n",
    "print (aritmetisk_summa(a, d, n)) "
   ]
  },
  {
   "cell_type": "code",
   "execution_count": 17,
   "metadata": {},
   "outputs": [
    {
     "output_type": "stream",
     "name": "stdout",
     "text": [
      "36\n"
     ]
    }
   ],
   "source": [
    "#2 b)\n",
    "\n",
    "n = int(input(\"Till vilket värde vill du beräkna?\"))\n",
    "a = int(input(\"Vilket startvärde vill du ha?\"))\n",
    "n = 2*n + 1\n",
    "d = 2\n",
    "def aritmetisk_summa( a, d,n) : \n",
    "    summa = 0\n",
    "    o = 0\n",
    "    while o < n : \n",
    "        summa = summa + a \n",
    "        a = a + d \n",
    "        o = o + 2\n",
    "    return summa\n",
    "      \n",
    "print (aritmetisk_summa(a, d, n)) "
   ]
  },
  {
   "cell_type": "code",
   "execution_count": 10,
   "metadata": {},
   "outputs": [
    {
     "output_type": "stream",
     "name": "stdout",
     "text": [
      "Du får tillbaka 0 tusenlappar, 0 femhundralappar, 1 tvåhundralappar, 2 femtiolappar, 2 tjugolappar, 0 tiokronor, 0 femkronor, 2 enkronor\n"
     ]
    }
   ],
   "source": [
    "#4\n",
    "pengar = int(input(\"Hur mycket pengar vill du göra till kontanter?\"))\n",
    "\n",
    "tusenlappar = 0\n",
    "while pengar > 999.99999: \n",
    "    pengar = pengar - 999.999999\n",
    "    tusenlappar = tusenlappar + 1\n",
    "\n",
    "femhundralappar = 0\n",
    "while pengar > 499.9999: \n",
    "    pengar = pengar - 499.999999\n",
    "    femhundralappar = femhundralappar + 1\n",
    "\n",
    "tvåhundralappar = 0\n",
    "while pengar > 199.999999: \n",
    "    pengar = pengar - 199.999999\n",
    "    tvåhundralappar = tvåhundralappar + 1\n",
    "\n",
    "femtiolappar = 0\n",
    "while pengar > 49.999999: \n",
    "    pengar = pengar - 49.99999\n",
    "    femtiolappar = femtiolappar + 1\n",
    "\n",
    "tjugolappar = 0\n",
    "while pengar > 19.9999999: \n",
    "    pengar = pengar - 19.99999\n",
    "    tjugolappar = tjugolappar + 1\n",
    "\n",
    "tiokronor = 0\n",
    "while pengar > 9.9999999: \n",
    "    pengar = pengar - 9.9999999\n",
    "    tiokronor = tiokronor + 1\n",
    "\n",
    "femkronor = 0\n",
    "while pengar > 4.99999: \n",
    "    pengar = pengar - 4.99999\n",
    "    femkronor = femkronor + 1\n",
    "\n",
    "enkronor = 0\n",
    "while pengar > 1: \n",
    "    pengar = pengar - 1\n",
    "    enkronor = enkronor + 1\n",
    "\n",
    "\n",
    "print(f\"Du får tillbaka {tusenlappar} tusenlappar, {femhundralappar} femhundralappar, {tvåhundralappar} tvåhundralappar, {femtiolappar} femtiolappar, {tjugolappar} tjugolappar, {tiokronor} tiokronor, {femkronor} femkronor, {enkronor} enkronor\" )"
   ]
  },
  {
   "cell_type": "code",
   "execution_count": 13,
   "metadata": {},
   "outputs": [
    {
     "output_type": "error",
     "ename": "TypeError",
     "evalue": "'int' object is not callable",
     "traceback": [
      "\u001b[1;31m---------------------------------------------------------------------------\u001b[0m",
      "\u001b[1;31mTypeError\u001b[0m                                 Traceback (most recent call last)",
      "\u001b[1;32m<ipython-input-13-ca82c2d00723>\u001b[0m in \u001b[0;36m<module>\u001b[1;34m\u001b[0m\n\u001b[0;32m      6\u001b[0m \u001b[1;33m\u001b[0m\u001b[0m\n\u001b[0;32m      7\u001b[0m \u001b[0mmening\u001b[0m \u001b[1;33m=\u001b[0m \u001b[0minput\u001b[0m\u001b[1;33m(\u001b[0m\u001b[1;34m\"Skriv en mening\"\u001b[0m\u001b[1;33m)\u001b[0m\u001b[1;33m\u001b[0m\u001b[1;33m\u001b[0m\u001b[0m\n\u001b[1;32m----> 8\u001b[1;33m \u001b[0mprint\u001b[0m\u001b[1;33m(\u001b[0m\u001b[1;34mf\"Antal ord i din mening är {f(mening)}\"\u001b[0m\u001b[1;33m)\u001b[0m\u001b[1;33m\u001b[0m\u001b[1;33m\u001b[0m\u001b[0m\n\u001b[0m",
      "\u001b[1;31mTypeError\u001b[0m: 'int' object is not callable"
     ]
    }
   ],
   "source": [
    "#test\n",
    "\n",
    "def f(x):\n",
    "    antalord = x.split()\n",
    "    return len(antalord)\n",
    "\n",
    "mening = input(\"Skriv en mening\")\n",
    "print(f\"Antal ord i din mening är {f(mening)}\")\n"
   ]
  },
  {
   "cell_type": "code",
   "execution_count": 3,
   "metadata": {},
   "outputs": [
    {
     "output_type": "stream",
     "name": "stdout",
     "text": [
      "20\n"
     ]
    }
   ],
   "source": [
    "tal = 1\n",
    "\n",
    "def f(x):\n",
    "    x = x*10\n",
    "    return(x*2)\n",
    "\n",
    "print(f(tal))"
   ]
  },
  {
   "cell_type": "code",
   "execution_count": null,
   "metadata": {},
   "outputs": [],
   "source": [
    "växla"
   ]
  }
 ]
}